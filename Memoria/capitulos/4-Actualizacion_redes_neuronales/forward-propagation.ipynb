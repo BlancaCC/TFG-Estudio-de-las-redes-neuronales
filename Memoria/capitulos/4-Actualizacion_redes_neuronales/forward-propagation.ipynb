{
 "cells": [
  {
   "cell_type": "markdown",
   "metadata": {},
   "source": [
    "# Forward propagation \n",
    "\n"
   ]
  },
  {
   "cell_type": "code",
   "execution_count": 6,
   "metadata": {},
   "outputs": [
    {
     "data": {
      "text/plain": [
       "3-element Vector{Matrix{Float64}}:\n",
       " [0.4 -0.3 0.5; -0.2 -0.2 0.2; 0.1 0.0 -0.3]\n",
       " [1.0 -1.0 0.3 0.0; 0.3 0.0 0.3 -0.6]\n",
       " [0.33 0.33 -0.6]"
      ]
     },
     "execution_count": 6,
     "metadata": {},
     "output_type": "execute_result"
    }
   ],
   "source": [
    "# Función de activación \n",
    "funcion_activacion = tanh\n",
    "\n",
    "# Red neuronal a evaluar\n",
    "X_0 = Vector{Float64}([1.;\n",
    "    0.])\n",
    "# Peso_{unidad capa origen, unidad capa siguiente }\n",
    "W1 = [\n",
    "    0.4 -0.3 0.5; #pesos que entran a n11\n",
    "    -0.2 -0.2 0.2;\n",
    "    0.1 0 -0.3\n",
    "]\n",
    "W2 = [\n",
    "    1 -1 0.3 0;\n",
    "    0.3 0 0.3 -0.6\n",
    "]\n",
    "W3 = [\n",
    "    0.33 0.33 -0.6\n",
    "]\n",
    "W = [W1, W2, W3]"
   ]
  },
  {
   "cell_type": "code",
   "execution_count": 12,
   "metadata": {},
   "outputs": [
    {
     "name": "stdout",
     "output_type": "stream",
     "text": [
      "x_0: [1.0, 0.0]\n",
      "w_1: [0.4 -0.3 0.5; -0.2 -0.2 0.2; 0.1 0.0 -0.3]\n",
      "s_1 [0.10000000000000003, -0.4, 0.1]\n",
      "x_1: [0.09966799462495585, -0.3799489622552249, 0.09966799462495582]\n",
      "w_2: [1.0 -1.0 0.3 0.0; 0.3 0.0 0.3 -0.6]\n",
      "s_2 [0.7863473166984767, 0.12621451454845903]\n",
      "x_2: [0.6563348206661491, 0.125548554318647]\n",
      "w_3: [0.33 0.33 -0.6]\n",
      "s_3 [0.47126135822864107]\n",
      "x_3: [0.43921790522848475]\n"
     ]
    },
    {
     "data": {
      "text/plain": [
       "1-element Vector{Float64}:\n",
       " 0.43921790522848475"
      ]
     },
     "execution_count": 12,
     "metadata": {},
     "output_type": "execute_result"
    }
   ],
   "source": [
    "x = X_0\n",
    "println(\"x_0: $(x)\")\n",
    "for (i,w) in enumerate(W)\n",
    "    x = [1;x]\n",
    "    println(\"w_$i: $(w)\")\n",
    "    s =w * x\n",
    "    println(\"s_$i $s\")\n",
    "    x = map(funcion_activacion,s)\n",
    "    println(\"x_$i: $(x)\")\n",
    "end\n",
    "salida = x"
   ]
  },
  {
   "cell_type": "markdown",
   "metadata": {},
   "source": [
    "## Ejemplo de una sola capa \n"
   ]
  },
  {
   "cell_type": "code",
   "execution_count": 13,
   "metadata": {},
   "outputs": [
    {
     "name": "stdout",
     "output_type": "stream",
     "text": [
      "X_1 = [0.31, 0.4]\n",
      "tanh(X_1) = [0.30043709714765415, 0.3799489622552249]\n",
      "W_2 tanh(X_1) = [-0.19792566763836952, 0.009712222839019957]\n"
     ]
    }
   ],
   "source": [
    "x = [1, 0.3, 0.1]\n",
    "W_1 = [ 0.3 0.1 -0.2;\n",
    "        0.5 -0.3 -0.1\n",
    "]\n",
    "W_2 = [0.1 -0.6;\n",
    "    -0.6 0.5\n",
    "]\n",
    "\n",
    "X_1 = W_1 * x\n",
    "println(\"X_1 = $X_1\")\n",
    "X_2 = map(tanh, X_1)\n",
    "println(\"tanh(X_1) = $X_2\")\n",
    "X3 = W_2*X_2\n",
    "println(\"W_2 tanh(X_1) = $X3\")\n"
   ]
  }
 ],
 "metadata": {
  "kernelspec": {
   "display_name": "Julia 1.7.1",
   "language": "julia",
   "name": "julia-1.7"
  },
  "language_info": {
   "file_extension": ".jl",
   "mimetype": "application/julia",
   "name": "julia",
   "version": "1.7.1"
  },
  "orig_nbformat": 4
 },
 "nbformat": 4,
 "nbformat_minor": 2
}
