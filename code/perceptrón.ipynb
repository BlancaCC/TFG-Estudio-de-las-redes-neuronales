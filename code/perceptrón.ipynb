{
 "cells": [
  {
   "cell_type": "code",
   "execution_count": 6,
   "metadata": {},
   "outputs": [
    {
     "data": {
      "text/plain": [
       "GradienteDescendente (generic function with 1 method)"
      ]
     },
     "execution_count": 6,
     "metadata": {},
     "output_type": "execute_result"
    }
   ],
   "source": [
    "function GradienteDescendente(\n",
    "    inicio,\n",
    "    funcion_perdida,\n",
    "    funcion_gradiente_error, \n",
    "    learning_rate :: Real,\n",
    "    iteraciones_maximas, \n",
    "    error_minimo\n",
    ")\n",
    "    num_iteraciones = 0\n",
    "    error = funcion_perdida(inicio)\n",
    "    w = inicio\n",
    "\n",
    "    while num_iteraciones < iteraciones_maximas && error > error_minimo\n",
    "        w = w - eta* funcion_gradiente_error(w)\n",
    "        num_iteraciones += 1\n",
    "        error = funcion_perdida(w)\n",
    "    end \n",
    "\n",
    "    return w\n",
    "\n",
    "end \n"
   ]
  },
  {
   "cell_type": "code",
   "execution_count": null,
   "metadata": {},
   "outputs": [],
   "source": []
  }
 ],
 "metadata": {
  "kernelspec": {
   "display_name": "Julia 1.7.1",
   "language": "julia",
   "name": "julia-1.7"
  },
  "language_info": {
   "file_extension": ".jl",
   "mimetype": "application/julia",
   "name": "julia",
   "version": "1.7.1"
  },
  "orig_nbformat": 4
 },
 "nbformat": 4,
 "nbformat_minor": 2
}
