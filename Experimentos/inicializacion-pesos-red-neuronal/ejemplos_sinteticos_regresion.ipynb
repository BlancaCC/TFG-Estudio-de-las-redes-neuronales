{
 "cells": [
  {
   "cell_type": "markdown",
   "metadata": {},
   "source": [
    "# Ejemplo sintético de regresión "
   ]
  },
  {
   "cell_type": "markdown",
   "metadata": {},
   "source": [
    "Función ideal que queremos descubrir: \n"
   ]
  },
  {
   "cell_type": "code",
   "execution_count": 3,
   "metadata": {},
   "outputs": [
    {
     "data": {
      "text/plain": [
       "5×1 Matrix{Float64}:\n",
       " 1.1173469733884014\n",
       " 1.5670876392807782\n",
       " 0.6578336266482825\n",
       " 0.456540126597453\n",
       " 1.5090594388897025"
      ]
     },
     "execution_count": 3,
     "metadata": {},
     "output_type": "execute_result"
    }
   ],
   "source": [
    "f_regression(x,y,z)=x*(y-0.5)+2z\n",
    "tam_set = 1000\n",
    "data_set_size = 5\n",
    "entry_dimension = 3\n",
    "output_dimension = 1\n",
    "X_train = rand(Float64, data_set_size, entry_dimension)\n",
    "# Data images\n",
    "Y_train = map( x->f_regression(x...), eachrow(X_train))\n",
    "Y_train = hcat(Y_train)"
   ]
  },
  {
   "cell_type": "code",
   "execution_count": 8,
   "metadata": {},
   "outputs": [
    {
     "data": {
      "text/plain": [
       "InitializeNodes"
      ]
     },
     "execution_count": 8,
     "metadata": {},
     "output_type": "execute_result"
    }
   ],
   "source": [
    "\n",
    "\n",
    "\n",
    "\n",
    "\n"
   ]
  },
  {
   "cell_type": "code",
   "execution_count": 28,
   "metadata": {},
   "outputs": [
    {
     "data": {
      "text/plain": [
       "true"
      ]
     },
     "execution_count": 28,
     "metadata": {},
     "output_type": "execute_result"
    }
   ],
   "source": [
    " \n",
    "\n"
   ]
  },
  {
   "cell_type": "code",
   "execution_count": 35,
   "metadata": {},
   "outputs": [
    {
     "name": "stdout",
     "output_type": "stream",
     "text": [
      "Set([4, 2, 3, 1])"
     ]
    },
    {
     "data": {
      "text/plain": [
       "Set{Int64} with 3 elements:\n",
       "  2\n",
       "  3\n",
       "  1"
      ]
     },
     "execution_count": 35,
     "metadata": {},
     "output_type": "execute_result"
    }
   ],
   "source": [
    "s = Set([2,3,4,3,1])\n",
    "print(s)\n",
    "pop!(s)\n",
    "s"
   ]
  },
  {
   "cell_type": "code",
   "execution_count": 3,
   "metadata": {},
   "outputs": [
    {
     "data": {
      "text/plain": [
       "Set{Nodes} with 3 elements:\n",
       "  Nodes(2, 4)\n",
       "  Nodes(4, 1)\n",
       "  Nodes(1, 2)"
      ]
     },
     "execution_count": 3,
     "metadata": {},
     "output_type": "execute_result"
    }
   ],
   "source": [
    "struct Nodes\n",
    "    v\n",
    "    p_dot_v\n",
    "end\n",
    "\n",
    "function Base.:(<)(x::Nodes, y::Nodes)\n",
    "    x.p_dot_v < y.p_dot_v\n",
    "end\n",
    "\n",
    "x = Nodes(4,1)\n",
    "y = Nodes(1,2)\n",
    "z  = Nodes(2,4)\n",
    "s = Set([y,z,x])"
   ]
  },
  {
   "cell_type": "code",
   "execution_count": 5,
   "metadata": {},
   "outputs": [
    {
     "name": "stdout",
     "output_type": "stream",
     "text": [
      "Nodes(2, 4)\n",
      "Nodes(4, 1)\n",
      "Nodes(1, 2)\n"
     ]
    }
   ],
   "source": [
    "for i in s<\n",
    "    println(i)\n",
    "end"
   ]
  }
 ],
 "metadata": {
  "kernelspec": {
   "display_name": "Julia 1.7.1",
   "language": "julia",
   "name": "julia-1.7"
  },
  "language_info": {
   "file_extension": ".jl",
   "mimetype": "application/julia",
   "name": "julia",
   "version": "1.7.1"
  },
  "orig_nbformat": 4
 },
 "nbformat": 4,
 "nbformat_minor": 2
}
